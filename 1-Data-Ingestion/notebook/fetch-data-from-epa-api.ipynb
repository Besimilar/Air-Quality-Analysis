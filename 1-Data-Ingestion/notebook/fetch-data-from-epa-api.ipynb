{
 "cells": [
  {
   "cell_type": "markdown",
   "metadata": {},
   "source": [
    "# Fecth data from EPA API"
   ]
  },
  {
   "cell_type": "markdown",
   "metadata": {},
   "source": [
    "## 1. Global settings"
   ]
  },
  {
   "cell_type": "code",
   "execution_count": 9,
   "metadata": {},
   "outputs": [],
   "source": [
    "username = \"hu.hon@husky.neu.edu\"\n",
    "password = \"khakihawk53\"\n",
    "data_format = 'DMCSV'\n",
    "pc = 'FORECAST'\n",
    "bdate = '20130101'\n",
    "edate = '20170801'\n",
    "state = '25'\n",
    "county = '025'\n",
    " \n",
    "api_url = \"https://aqs.epa.gov/api/rawData\""
   ]
  },
  {
   "cell_type": "markdown",
   "metadata": {},
   "source": [
    "## 2. Request"
   ]
  },
  {
   "cell_type": "code",
   "execution_count": 10,
   "metadata": {
    "collapsed": true
   },
   "outputs": [],
   "source": [
    "import requests"
   ]
  },
  {
   "cell_type": "code",
   "execution_count": 12,
   "metadata": {},
   "outputs": [],
   "source": [
    "req = {\n",
    "    'user' : username,\n",
    "    'pw' : password,\n",
    "    'format' : data_format,\n",
    "    'pc' : pc,\n",
    "    'bdate' : bdate,\n",
    "    'edate' : edate,\n",
    "    'state' : state,\n",
    "    'county' : county,\n",
    "}"
   ]
  },
  {
   "cell_type": "code",
   "execution_count": 13,
   "metadata": {
    "collapsed": true
   },
   "outputs": [],
   "source": [
    "r = requests.get(api_url, params=req)\n",
    "# req = urllib.request.Request(url, body, headers) \n",
    "\n",
    "# try:\n",
    "#     response = urllib.request.urlopen(req)\n",
    "    \n",
    "#     result = response.read()\n",
    "#     print(result) \n",
    "# except urllib2.HTTPError, error:\n",
    "#     print(\"The request failed with status code: \" + str(error.code))\n",
    "\n",
    "#     # Print the headers - they include the requert ID and the timestamp, which are useful for debugging the failure\n",
    "#     print(error.info())\n",
    "\n",
    "#     print(json.loads(error.read()))          "
   ]
  },
  {
   "cell_type": "code",
   "execution_count": 14,
   "metadata": {},
   "outputs": [
    {
     "data": {
      "text/plain": [
       "'https://aqs.epa.gov/api/rawData?pw=khakihawk53&pc=FORECAST&format=DMCSV&state=25&edate=20170801&county=025&bdate=20130101&user=hu.hon%40husky.neu.edu'"
      ]
     },
     "execution_count": 14,
     "metadata": {},
     "output_type": "execute_result"
    }
   ],
   "source": [
    "r.url"
   ]
  },
  {
   "cell_type": "code",
   "execution_count": 15,
   "metadata": {},
   "outputs": [
    {
     "data": {
      "text/plain": [
       "{'X-Powered-By': 'Phusion Passenger 5.0.29', 'Date': 'Thu, 10 Aug 2017 04:38:04 GMT', 'Transfer-Encoding': 'chunked', 'Content-Transfer-Encoding': 'binary', 'Connection': 'Keep-Alive', 'Strict-Transport-Security': 'max-age=63072000; includeSubdomains; preload, max-age=63072000; includeSubdomains; preload', 'X-XSS-Protection': '1; mode=block', 'Content-Language': 'en', 'Server': 'Oracle-Application-Server-11g Oracle-Web-Cache-11g/11.1.1.6.0 (N;ecid=72070307938435497,0:1)', 'X-Request-Id': '5c6150c7-8683-45fc-b283-16787b3d117c', 'Set-Cookie': 'BIGipServer~Oracle~pool_aqs.epa.gov_443=823542662.47873.0000; path=/', 'X-Runtime': '427.780042', 'Keep-Alive': 'timeout=5, max=999', 'Cache-Control': 'private', 'Content-Disposition': 'inline; filename=\"AQDM_1308840509.txt\"', 'Content-Type': 'text/plain', 'X-Content-Type-Options': 'nosniff', 'X-Frame-Options': 'SAMEORIGIN', 'Status': '200 OK'}"
      ]
     },
     "execution_count": 15,
     "metadata": {},
     "output_type": "execute_result"
    }
   ],
   "source": [
    "r.headers"
   ]
  },
  {
   "cell_type": "markdown",
   "metadata": {},
   "source": [
    "## 3. Download"
   ]
  },
  {
   "cell_type": "code",
   "execution_count": 16,
   "metadata": {
    "collapsed": true
   },
   "outputs": [],
   "source": [
    "local_filename = \"rawdata.txt\"\n",
    "with open(local_filename, 'wb') as f:\n",
    "        for chunk in r.iter_content(chunk_size=1024): \n",
    "            if chunk: # filter out keep-alive new chunks\n",
    "                f.write(chunk)\n",
    "f.close()"
   ]
  },
  {
   "cell_type": "markdown",
   "metadata": {},
   "source": [
    "### 3.1 Download test"
   ]
  },
  {
   "cell_type": "code",
   "execution_count": 18,
   "metadata": {},
   "outputs": [],
   "source": [
    "def download_file(url, begin, end, req):\n",
    "    local_filename = \"rawdata-\" + begin + \"-\" + end + \".txt\"\n",
    "    # NOTE the stream=True parameter\n",
    "    r = requests.get(url, params=req, stream=True)\n",
    "    with open(local_filename, 'wb') as f:\n",
    "        for chunk in r.iter_content(chunk_size=1024): \n",
    "            if chunk: # filter out keep-alive new chunks\n",
    "                f.write(chunk)\n",
    "    f.close()\n",
    "    return r"
   ]
  },
  {
   "cell_type": "code",
   "execution_count": 19,
   "metadata": {
    "collapsed": true
   },
   "outputs": [],
   "source": [
    "bdate = \"20150101\" \n",
    "edate = \"20150201\"\n",
    "req = {\n",
    "    'user' : username,\n",
    "    'pw' : password,\n",
    "    'format' : data_format,\n",
    "    'pc' : pc,\n",
    "    'bdate' : bdate,\n",
    "    'edate' : edate,\n",
    "    'state' : state,\n",
    "    'county' : county,\n",
    "}"
   ]
  },
  {
   "cell_type": "code",
   "execution_count": 20,
   "metadata": {
    "collapsed": true
   },
   "outputs": [],
   "source": [
    "response = download_file(api_url, bdate, edate, req)"
   ]
  },
  {
   "cell_type": "code",
   "execution_count": 22,
   "metadata": {},
   "outputs": [
    {
     "data": {
      "text/plain": [
       "{'X-Powered-By': 'Phusion Passenger 5.0.29', 'Date': 'Thu, 10 Aug 2017 05:03:34 GMT', 'Transfer-Encoding': 'chunked', 'Content-Transfer-Encoding': 'binary', 'Connection': 'Keep-Alive', 'Strict-Transport-Security': 'max-age=63072000; includeSubdomains; preload, max-age=63072000; includeSubdomains; preload', 'X-XSS-Protection': '1; mode=block', 'Content-Language': 'en', 'Server': 'Oracle-Application-Server-11g Oracle-Web-Cache-11g/11.1.1.6.0 (N;ecid=72080706055825803,0:1)', 'X-Request-Id': 'b245089c-41f9-439c-ba25-4c9f64a4272f', 'Set-Cookie': 'BIGipServer~Oracle~pool_aqs.epa.gov_443=823542662.47873.0000; path=/', 'X-Runtime': '9.416352', 'Keep-Alive': 'timeout=5, max=999', 'Cache-Control': 'private', 'Content-Disposition': 'inline; filename=\"AQDM_1308882556.txt\"', 'Content-Type': 'text/plain', 'X-Content-Type-Options': 'nosniff', 'X-Frame-Options': 'SAMEORIGIN', 'Status': '200 OK'}"
      ]
     },
     "execution_count": 22,
     "metadata": {},
     "output_type": "execute_result"
    }
   ],
   "source": [
    "response.headers"
   ]
  },
  {
   "cell_type": "code",
   "execution_count": null,
   "metadata": {
    "collapsed": true
   },
   "outputs": [],
   "source": []
  }
 ],
 "metadata": {
  "anaconda-cloud": {},
  "kernelspec": {
   "display_name": "Python [default]",
   "language": "python",
   "name": "python3"
  },
  "language_info": {
   "codemirror_mode": {
    "name": "ipython",
    "version": 3
   },
   "file_extension": ".py",
   "mimetype": "text/x-python",
   "name": "python",
   "nbconvert_exporter": "python",
   "pygments_lexer": "ipython3",
   "version": "3.5.3"
  }
 },
 "nbformat": 4,
 "nbformat_minor": 1
}
